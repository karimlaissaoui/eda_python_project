{
 "cells": [
  {
   "cell_type": "markdown",
   "metadata": {},
   "source": [
    "# the cancer data "
   ]
  },
  {
   "cell_type": "markdown",
   "metadata": {},
   "source": [
    "## importing package "
   ]
  },
  {
   "cell_type": "code",
   "execution_count": 2,
   "metadata": {},
   "outputs": [],
   "source": [
    "import numpy as np   \n",
    "import pandas as pd   \n",
    "import matplotlib.pyplot as plt    \n",
    "import statsmodels.api as sm  \n",
    "import seaborn as sns "
   ]
  },
  {
   "cell_type": "markdown",
   "metadata": {},
   "source": [
    "## importing data "
   ]
  },
  {
   "cell_type": "code",
   "execution_count": 3,
   "metadata": {},
   "outputs": [
    {
     "data": {
      "text/html": [
       "<div>\n",
       "<style scoped>\n",
       "    .dataframe tbody tr th:only-of-type {\n",
       "        vertical-align: middle;\n",
       "    }\n",
       "\n",
       "    .dataframe tbody tr th {\n",
       "        vertical-align: top;\n",
       "    }\n",
       "\n",
       "    .dataframe thead th {\n",
       "        text-align: right;\n",
       "    }\n",
       "</style>\n",
       "<table border=\"1\" class=\"dataframe\">\n",
       "  <thead>\n",
       "    <tr style=\"text-align: right;\">\n",
       "      <th></th>\n",
       "      <th>PatientID</th>\n",
       "      <th>Age</th>\n",
       "      <th>Gender</th>\n",
       "      <th>Race/Ethnicity</th>\n",
       "      <th>BMI</th>\n",
       "      <th>SmokingStatus</th>\n",
       "      <th>FamilyHistory</th>\n",
       "      <th>CancerType</th>\n",
       "      <th>Stage</th>\n",
       "      <th>TumorSize</th>\n",
       "      <th>TreatmentType</th>\n",
       "      <th>TreatmentResponse</th>\n",
       "      <th>SurvivalMonths</th>\n",
       "      <th>Recurrence</th>\n",
       "      <th>GeneticMarker</th>\n",
       "      <th>HospitalRegion</th>\n",
       "    </tr>\n",
       "  </thead>\n",
       "  <tbody>\n",
       "    <tr>\n",
       "      <th>0</th>\n",
       "      <td>1</td>\n",
       "      <td>80</td>\n",
       "      <td>Female</td>\n",
       "      <td>Other</td>\n",
       "      <td>23.3</td>\n",
       "      <td>Smoker</td>\n",
       "      <td>Yes</td>\n",
       "      <td>Breast</td>\n",
       "      <td>II</td>\n",
       "      <td>1.7</td>\n",
       "      <td>Combination Therapy</td>\n",
       "      <td>No Response</td>\n",
       "      <td>103</td>\n",
       "      <td>Yes</td>\n",
       "      <td>NaN</td>\n",
       "      <td>South</td>\n",
       "    </tr>\n",
       "    <tr>\n",
       "      <th>1</th>\n",
       "      <td>2</td>\n",
       "      <td>76</td>\n",
       "      <td>Male</td>\n",
       "      <td>Caucasian</td>\n",
       "      <td>22.4</td>\n",
       "      <td>Former Smoker</td>\n",
       "      <td>Yes</td>\n",
       "      <td>Colon</td>\n",
       "      <td>IV</td>\n",
       "      <td>4.7</td>\n",
       "      <td>Surgery</td>\n",
       "      <td>No Response</td>\n",
       "      <td>14</td>\n",
       "      <td>Yes</td>\n",
       "      <td>BRCA1</td>\n",
       "      <td>West</td>\n",
       "    </tr>\n",
       "    <tr>\n",
       "      <th>2</th>\n",
       "      <td>3</td>\n",
       "      <td>69</td>\n",
       "      <td>Male</td>\n",
       "      <td>Asian</td>\n",
       "      <td>21.5</td>\n",
       "      <td>Smoker</td>\n",
       "      <td>Yes</td>\n",
       "      <td>Breast</td>\n",
       "      <td>III</td>\n",
       "      <td>8.3</td>\n",
       "      <td>Combination Therapy</td>\n",
       "      <td>Complete Remission</td>\n",
       "      <td>61</td>\n",
       "      <td>Yes</td>\n",
       "      <td>BRCA1</td>\n",
       "      <td>West</td>\n",
       "    </tr>\n",
       "    <tr>\n",
       "      <th>3</th>\n",
       "      <td>4</td>\n",
       "      <td>77</td>\n",
       "      <td>Male</td>\n",
       "      <td>Asian</td>\n",
       "      <td>30.4</td>\n",
       "      <td>Former Smoker</td>\n",
       "      <td>Yes</td>\n",
       "      <td>Prostate</td>\n",
       "      <td>II</td>\n",
       "      <td>1.7</td>\n",
       "      <td>Radiation</td>\n",
       "      <td>Partial Remission</td>\n",
       "      <td>64</td>\n",
       "      <td>No</td>\n",
       "      <td>KRAS</td>\n",
       "      <td>South</td>\n",
       "    </tr>\n",
       "    <tr>\n",
       "      <th>4</th>\n",
       "      <td>5</td>\n",
       "      <td>89</td>\n",
       "      <td>Male</td>\n",
       "      <td>Caucasian</td>\n",
       "      <td>20.9</td>\n",
       "      <td>Smoker</td>\n",
       "      <td>Yes</td>\n",
       "      <td>Lung</td>\n",
       "      <td>IV</td>\n",
       "      <td>7.4</td>\n",
       "      <td>Radiation</td>\n",
       "      <td>No Response</td>\n",
       "      <td>82</td>\n",
       "      <td>Yes</td>\n",
       "      <td>KRAS</td>\n",
       "      <td>South</td>\n",
       "    </tr>\n",
       "  </tbody>\n",
       "</table>\n",
       "</div>"
      ],
      "text/plain": [
       "   PatientID  Age  Gender Race/Ethnicity   BMI  SmokingStatus FamilyHistory  \\\n",
       "0          1   80  Female          Other  23.3         Smoker           Yes   \n",
       "1          2   76    Male      Caucasian  22.4  Former Smoker           Yes   \n",
       "2          3   69    Male          Asian  21.5         Smoker           Yes   \n",
       "3          4   77    Male          Asian  30.4  Former Smoker           Yes   \n",
       "4          5   89    Male      Caucasian  20.9         Smoker           Yes   \n",
       "\n",
       "  CancerType Stage  TumorSize        TreatmentType   TreatmentResponse  \\\n",
       "0     Breast    II        1.7  Combination Therapy         No Response   \n",
       "1      Colon    IV        4.7              Surgery         No Response   \n",
       "2     Breast   III        8.3  Combination Therapy  Complete Remission   \n",
       "3   Prostate    II        1.7            Radiation   Partial Remission   \n",
       "4       Lung    IV        7.4            Radiation         No Response   \n",
       "\n",
       "   SurvivalMonths Recurrence GeneticMarker HospitalRegion  \n",
       "0             103        Yes           NaN          South  \n",
       "1              14        Yes         BRCA1           West  \n",
       "2              61        Yes         BRCA1           West  \n",
       "3              64         No          KRAS          South  \n",
       "4              82        Yes          KRAS          South  "
      ]
     },
     "execution_count": 3,
     "metadata": {},
     "output_type": "execute_result"
    }
   ],
   "source": [
    "data = pd.read_csv(\"E:/machine_learning_project/machine_learning_cour/cancer_issue.csv\")\n",
    "dt= pd.DataFrame(data)\n",
    "dt.head(5)"
   ]
  },
  {
   "cell_type": "markdown",
   "metadata": {},
   "source": [
    "## summarize information "
   ]
  },
  {
   "cell_type": "code",
   "execution_count": 4,
   "metadata": {},
   "outputs": [
    {
     "name": "stdout",
     "output_type": "stream",
     "text": [
      "<class 'pandas.core.frame.DataFrame'>\n",
      "RangeIndex: 17686 entries, 0 to 17685\n",
      "Data columns (total 16 columns):\n",
      " #   Column             Non-Null Count  Dtype  \n",
      "---  ------             --------------  -----  \n",
      " 0   PatientID          17686 non-null  int64  \n",
      " 1   Age                17686 non-null  int64  \n",
      " 2   Gender             17686 non-null  object \n",
      " 3   Race/Ethnicity     17686 non-null  object \n",
      " 4   BMI                17686 non-null  float64\n",
      " 5   SmokingStatus      17686 non-null  object \n",
      " 6   FamilyHistory      17686 non-null  object \n",
      " 7   CancerType         17686 non-null  object \n",
      " 8   Stage              17686 non-null  object \n",
      " 9   TumorSize          17686 non-null  float64\n",
      " 10  TreatmentType      17686 non-null  object \n",
      " 11  TreatmentResponse  17686 non-null  object \n",
      " 12  SurvivalMonths     17686 non-null  int64  \n",
      " 13  Recurrence         17686 non-null  object \n",
      " 14  GeneticMarker      13360 non-null  object \n",
      " 15  HospitalRegion     17686 non-null  object \n",
      "dtypes: float64(2), int64(3), object(11)\n",
      "memory usage: 2.2+ MB\n"
     ]
    }
   ],
   "source": [
    "dt.info()"
   ]
  },
  {
   "cell_type": "code",
   "execution_count": 5,
   "metadata": {},
   "outputs": [
    {
     "data": {
      "text/plain": [
       "PatientID              int64\n",
       "Age                    int64\n",
       "Gender                object\n",
       "Race/Ethnicity        object\n",
       "BMI                  float64\n",
       "SmokingStatus         object\n",
       "FamilyHistory         object\n",
       "CancerType            object\n",
       "Stage                 object\n",
       "TumorSize            float64\n",
       "TreatmentType         object\n",
       "TreatmentResponse     object\n",
       "SurvivalMonths         int64\n",
       "Recurrence            object\n",
       "GeneticMarker         object\n",
       "HospitalRegion        object\n",
       "dtype: object"
      ]
     },
     "execution_count": 5,
     "metadata": {},
     "output_type": "execute_result"
    }
   ],
   "source": [
    "dt.dtypes"
   ]
  },
  {
   "cell_type": "code",
   "execution_count": 7,
   "metadata": {},
   "outputs": [
    {
     "data": {
      "text/plain": [
       "PatientID               0\n",
       "Age                     0\n",
       "Gender                  0\n",
       "Race/Ethnicity          0\n",
       "BMI                     0\n",
       "SmokingStatus           0\n",
       "FamilyHistory           0\n",
       "CancerType              0\n",
       "Stage                   0\n",
       "TumorSize               0\n",
       "TreatmentType           0\n",
       "TreatmentResponse       0\n",
       "SurvivalMonths          0\n",
       "Recurrence              0\n",
       "GeneticMarker        4326\n",
       "HospitalRegion          0\n",
       "dtype: int64"
      ]
     },
     "execution_count": 7,
     "metadata": {},
     "output_type": "execute_result"
    }
   ],
   "source": [
    "dt.isna().sum()"
   ]
  },
  {
   "cell_type": "code",
   "execution_count": 8,
   "metadata": {},
   "outputs": [
    {
     "data": {
      "text/html": [
       "<div>\n",
       "<style scoped>\n",
       "    .dataframe tbody tr th:only-of-type {\n",
       "        vertical-align: middle;\n",
       "    }\n",
       "\n",
       "    .dataframe tbody tr th {\n",
       "        vertical-align: top;\n",
       "    }\n",
       "\n",
       "    .dataframe thead th {\n",
       "        text-align: right;\n",
       "    }\n",
       "</style>\n",
       "<table border=\"1\" class=\"dataframe\">\n",
       "  <thead>\n",
       "    <tr style=\"text-align: right;\">\n",
       "      <th></th>\n",
       "      <th>PatientID</th>\n",
       "      <th>Age</th>\n",
       "      <th>BMI</th>\n",
       "      <th>TumorSize</th>\n",
       "      <th>SurvivalMonths</th>\n",
       "    </tr>\n",
       "  </thead>\n",
       "  <tbody>\n",
       "    <tr>\n",
       "      <th>count</th>\n",
       "      <td>17686.000000</td>\n",
       "      <td>17686.000000</td>\n",
       "      <td>17686.000000</td>\n",
       "      <td>17686.000000</td>\n",
       "      <td>17686.000000</td>\n",
       "    </tr>\n",
       "    <tr>\n",
       "      <th>mean</th>\n",
       "      <td>8843.500000</td>\n",
       "      <td>53.758396</td>\n",
       "      <td>29.253805</td>\n",
       "      <td>5.499751</td>\n",
       "      <td>60.387821</td>\n",
       "    </tr>\n",
       "    <tr>\n",
       "      <th>std</th>\n",
       "      <td>5105.652766</td>\n",
       "      <td>21.079473</td>\n",
       "      <td>6.203575</td>\n",
       "      <td>2.603107</td>\n",
       "      <td>34.794859</td>\n",
       "    </tr>\n",
       "    <tr>\n",
       "      <th>min</th>\n",
       "      <td>1.000000</td>\n",
       "      <td>18.000000</td>\n",
       "      <td>18.500000</td>\n",
       "      <td>1.000000</td>\n",
       "      <td>1.000000</td>\n",
       "    </tr>\n",
       "    <tr>\n",
       "      <th>25%</th>\n",
       "      <td>4422.250000</td>\n",
       "      <td>35.000000</td>\n",
       "      <td>23.900000</td>\n",
       "      <td>3.300000</td>\n",
       "      <td>30.000000</td>\n",
       "    </tr>\n",
       "    <tr>\n",
       "      <th>50%</th>\n",
       "      <td>8843.500000</td>\n",
       "      <td>54.000000</td>\n",
       "      <td>29.200000</td>\n",
       "      <td>5.500000</td>\n",
       "      <td>60.000000</td>\n",
       "    </tr>\n",
       "    <tr>\n",
       "      <th>75%</th>\n",
       "      <td>13264.750000</td>\n",
       "      <td>72.000000</td>\n",
       "      <td>34.600000</td>\n",
       "      <td>7.700000</td>\n",
       "      <td>91.000000</td>\n",
       "    </tr>\n",
       "    <tr>\n",
       "      <th>max</th>\n",
       "      <td>17686.000000</td>\n",
       "      <td>90.000000</td>\n",
       "      <td>40.000000</td>\n",
       "      <td>10.000000</td>\n",
       "      <td>120.000000</td>\n",
       "    </tr>\n",
       "  </tbody>\n",
       "</table>\n",
       "</div>"
      ],
      "text/plain": [
       "          PatientID           Age           BMI     TumorSize  SurvivalMonths\n",
       "count  17686.000000  17686.000000  17686.000000  17686.000000    17686.000000\n",
       "mean    8843.500000     53.758396     29.253805      5.499751       60.387821\n",
       "std     5105.652766     21.079473      6.203575      2.603107       34.794859\n",
       "min        1.000000     18.000000     18.500000      1.000000        1.000000\n",
       "25%     4422.250000     35.000000     23.900000      3.300000       30.000000\n",
       "50%     8843.500000     54.000000     29.200000      5.500000       60.000000\n",
       "75%    13264.750000     72.000000     34.600000      7.700000       91.000000\n",
       "max    17686.000000     90.000000     40.000000     10.000000      120.000000"
      ]
     },
     "execution_count": 8,
     "metadata": {},
     "output_type": "execute_result"
    }
   ],
   "source": [
    "dt.describe()"
   ]
  },
  {
   "cell_type": "markdown",
   "metadata": {},
   "source": [
    "## analyse  univarie"
   ]
  },
  {
   "cell_type": "code",
   "execution_count": 9,
   "metadata": {},
   "outputs": [
    {
     "data": {
      "text/plain": [
       "Index(['PatientID', 'Age', 'Gender', 'Race/Ethnicity', 'BMI', 'SmokingStatus',\n",
       "       'FamilyHistory', 'CancerType', 'Stage', 'TumorSize', 'TreatmentType',\n",
       "       'TreatmentResponse', 'SurvivalMonths', 'Recurrence', 'GeneticMarker',\n",
       "       'HospitalRegion'],\n",
       "      dtype='object')"
      ]
     },
     "execution_count": 9,
     "metadata": {},
     "output_type": "execute_result"
    }
   ],
   "source": [
    "dt.columns"
   ]
  },
  {
   "cell_type": "markdown",
   "metadata": {},
   "source": [
    "### analyse quantitative "
   ]
  },
  {
   "cell_type": "markdown",
   "metadata": {},
   "source": [
    "#### Age"
   ]
  },
  {
   "cell_type": "markdown",
   "metadata": {},
   "source": [
    "##### global information "
   ]
  },
  {
   "cell_type": "code",
   "execution_count": 16,
   "metadata": {},
   "outputs": [
    {
     "data": {
      "text/plain": [
       "count    17686.000000\n",
       "mean        53.758396\n",
       "std         21.079473\n",
       "min         18.000000\n",
       "25%         35.000000\n",
       "50%         54.000000\n",
       "75%         72.000000\n",
       "max         90.000000\n",
       "Name: Age, dtype: float64"
      ]
     },
     "execution_count": 16,
     "metadata": {},
     "output_type": "execute_result"
    }
   ],
   "source": [
    "dt[\"Age\"].describe()"
   ]
  },
  {
   "cell_type": "code",
   "execution_count": 15,
   "metadata": {},
   "outputs": [
    {
     "data": {
      "text/plain": [
       "Age\n",
       "18    272\n",
       "19    245\n",
       "20    244\n",
       "21    228\n",
       "22    213\n",
       "     ... \n",
       "86    229\n",
       "87    243\n",
       "88    255\n",
       "89    244\n",
       "90    240\n",
       "Name: count, Length: 73, dtype: int64"
      ]
     },
     "execution_count": 15,
     "metadata": {},
     "output_type": "execute_result"
    }
   ],
   "source": [
    "dt[\"Age\"].value_counts().sort_index()"
   ]
  },
  {
   "cell_type": "markdown",
   "metadata": {},
   "source": [
    "##### missing values and outliers "
   ]
  },
  {
   "cell_type": "markdown",
   "metadata": {},
   "source": [
    "missing values"
   ]
  },
  {
   "cell_type": "code",
   "execution_count": 18,
   "metadata": {},
   "outputs": [
    {
     "data": {
      "text/plain": [
       "0"
      ]
     },
     "execution_count": 18,
     "metadata": {},
     "output_type": "execute_result"
    }
   ],
   "source": [
    "dt[\"Age\"].isna().sum()"
   ]
  },
  {
   "cell_type": "markdown",
   "metadata": {},
   "source": [
    "outliers "
   ]
  },
  {
   "cell_type": "code",
   "execution_count": 20,
   "metadata": {},
   "outputs": [
    {
     "data": {
      "text/plain": [
       "Series([], Name: Age, dtype: int64)"
      ]
     },
     "execution_count": 20,
     "metadata": {},
     "output_type": "execute_result"
    }
   ],
   "source": [
    "\n",
    "Q1 = dt[\"Age\"].quantile(0.25)\n",
    "Q3 = dt[\"Age\"].quantile(0.75)\n",
    "IQR = Q3 - Q1\n",
    "lower_bound = Q1 - 1.5 * IQR\n",
    "upper_bound = Q3 + 1.5 * IQR\n",
    "\n",
    "outliers = dt[(dt[\"Age\"] < lower_bound) | (dt[\"Age\"] > upper_bound)]\n",
    "\n",
    "outliers[\"Age\"]\n"
   ]
  },
  {
   "cell_type": "markdown",
   "metadata": {},
   "source": [
    "##### representation graphic "
   ]
  },
  {
   "cell_type": "markdown",
   "metadata": {},
   "source": [
    "boxplot"
   ]
  },
  {
   "cell_type": "code",
   "execution_count": 22,
   "metadata": {},
   "outputs": [
    {
     "data": {
      "image/png": "[encoded data removed]",
      "text/plain": [
       "<Figure size 600x400 with 1 Axes>"
      ]
     },
     "metadata": {},
     "output_type": "display_data"
    }
   ],
   "source": [
    "plt.figure(figsize=(6, 4))\n",
    "sns.boxplot(y=dt[\"Age\"], color=\"skyblue\")\n",
    "plt.title(\"Boxplot de la colonne Age\")\n",
    "plt.show()"
   ]
  },
  {
   "cell_type": "markdown",
   "metadata": {},
   "source": [
    "histogramme "
   ]
  },
  {
   "cell_type": "code",
   "execution_count": 24,
   "metadata": {},
   "outputs": [
    {
     "data": {
      "image/png": "[encoded data removed]",
      "text/plain": [
       "<Figure size 640x480 with 1 Axes>"
      ]
     },
     "metadata": {},
     "output_type": "display_data"
    }
   ],
   "source": [
    "\n",
    "plt.hist(dt[\"Age\"], bins=20, color='blue', edgecolor='black', alpha=0.7)\n",
    "plt.xlabel(\"Age\")\n",
    "plt.ylabel(\"Fréquence\")\n",
    "plt.title(\"Histogramme de la colonne Age\")\n",
    "plt.grid(axis=\"y\", linestyle=\"--\", alpha=0.7)\n",
    "plt.show()"
   ]
  },
  {
   "cell_type": "code",
   "execution_count": 25,
   "metadata": {},
   "outputs": [
    {
     "name": "stdout",
     "output_type": "stream",
     "text": [
      "   Age Age_Group\n",
      "0   80   [70-80]\n",
      "1   76   [70-80]\n",
      "2   69   [60-70]\n",
      "3   77   [70-80]\n",
      "4   89   [70-80]\n"
     ]
    }
   ],
   "source": [
    "\n",
    "def categorize_age(age):\n",
    "    if age <= 40:\n",
    "        return \"[30-40]\"\n",
    "    elif age <= 50:\n",
    "        return \"[40-50]\"\n",
    "    elif age <= 60:\n",
    "        return \"[50-60]\"\n",
    "    elif age <= 70:\n",
    "        return \"[60-70]\"\n",
    "    else:\n",
    "        return \"[70-80]\"\n",
    "dt[\"Age_Group\"] = dt[\"Age\"].apply(categorize_age)\n",
    "\n",
    "# Afficher les premières lignes\n",
    "print(dt[[\"Age\", \"Age_Group\"]].head())\n"
   ]
  },
  {
   "cell_type": "code",
   "execution_count": 31,
   "metadata": {},
   "outputs": [
    {
     "name": "stderr",
     "output_type": "stream",
     "text": [
      "c:\\Users\\Client\\anaconda3\\Nouveau dossier\\Lib\\site-packages\\seaborn\\_oldcore.py:1119: FutureWarning: use_inf_as_na option is deprecated and will be removed in a future version. Convert inf values to NaN before operating instead.\n",
      "  with pd.option_context('mode.use_inf_as_na', True):\n"
     ]
    },
    {
     "data": {
      "image/png": "[encoded data removed]",
      "text/plain": [
       "<Figure size 800x500 with 1 Axes>"
      ]
     },
     "metadata": {},
     "output_type": "display_data"
    }
   ],
   "source": [
    "plt.figure(figsize=(8, 5))\n",
    "sns.histplot(dt[\"Age_Group\"], bins=20, kde=True, color=\"blue\", edgecolor=\"black\", alpha=0.6)\n",
    "plt.xlabel(\"Age\")\n",
    "plt.ylabel(\"Fréquence\")\n",
    "plt.title(\"Histogramme de la colonne Age\")\n",
    "plt.grid(axis=\"y\", linestyle=\"--\", alpha=0.7)\n",
    "plt.show()"
   ]
  },
  {
   "cell_type": "markdown",
   "metadata": {},
   "source": [
    "#### TumorSize"
   ]
  },
  {
   "cell_type": "code",
   "execution_count": 33,
   "metadata": {},
   "outputs": [
    {
     "data": {
      "text/plain": [
       "count    17686.000000\n",
       "mean         5.499751\n",
       "std          2.603107\n",
       "min          1.000000\n",
       "25%          3.300000\n",
       "50%          5.500000\n",
       "75%          7.700000\n",
       "max         10.000000\n",
       "Name: TumorSize, dtype: float64"
      ]
     },
     "execution_count": 33,
     "metadata": {},
     "output_type": "execute_result"
    }
   ],
   "source": [
    "dt[\"TumorSize\"].describe()"
   ]
  },
  {
   "cell_type": "code",
   "execution_count": 34,
   "metadata": {},
   "outputs": [
    {
     "data": {
      "text/plain": [
       "TumorSize\n",
       "1.0      96\n",
       "1.1     206\n",
       "1.2     195\n",
       "1.3     197\n",
       "1.4     197\n",
       "       ... \n",
       "9.6     219\n",
       "9.7     199\n",
       "9.8     208\n",
       "9.9     207\n",
       "10.0    113\n",
       "Name: count, Length: 91, dtype: int64"
      ]
     },
     "execution_count": 34,
     "metadata": {},
     "output_type": "execute_result"
    }
   ],
   "source": [
    "dt[\"TumorSize\"].value_counts().sort_index()"
   ]
  },
  {
   "cell_type": "markdown",
   "metadata": {},
   "source": [
    "##### missing values and outliers "
   ]
  },
  {
   "cell_type": "markdown",
   "metadata": {},
   "source": [
    "missing values "
   ]
  },
  {
   "cell_type": "code",
   "execution_count": 41,
   "metadata": {},
   "outputs": [
    {
     "ename": "SyntaxError",
     "evalue": "f-string: unmatched '[' (3470745216.py, line 4)",
     "output_type": "error",
     "traceback": [
      "\u001b[1;36m  Cell \u001b[1;32mIn[43], line 4\u001b[1;36m\u001b[0m\n\u001b[1;33m    print(f\"The number of missing values is: {dt[\"TumorSize\"].isna().sum()}\")\u001b[0m\n\u001b[1;37m                                                  ^\u001b[0m\n\u001b[1;31mSyntaxError\u001b[0m\u001b[1;31m:\u001b[0m f-string: unmatched '['\n"
     ]
    }
   ],
   "source": [
    "if dt[\"TumorSize\"].isna().sum() == 0:\n",
    "    print(\"No missing values found.\")\n",
    "else:\n",
    "    missing_count = dt[\"TumorSize\"].isna().sum()\n",
    "    print(f\"The number of missing values is: {missing_count}\")\n"
   ]
  }
 ],
 "metadata": {
  "kernelspec": {
   "display_name": "base",
   "language": "python",
   "name": "python3"
  },
  "language_info": {
   "codemirror_mode": {
    "name": "ipython",
    "version": 3
   },
   "file_extension": ".py",
   "mimetype": "text/x-python",
   "name": "python",
   "nbconvert_exporter": "python",
   "pygments_lexer": "ipython3",
   "version": "3.11.7"
  }
 },
 "nbformat": 4,
 "nbformat_minor": 2
}
